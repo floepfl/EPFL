{
 "cells": [
  {
   "cell_type": "code",
   "execution_count": 45,
   "metadata": {},
   "outputs": [],
   "source": [
    "import torch\n",
    "import numpy as np\n",
    "from time import perf_counter"
   ]
  },
  {
   "cell_type": "markdown",
   "metadata": {},
   "source": [
    "# Exercise 1"
   ]
  },
  {
   "cell_type": "code",
   "execution_count": 13,
   "metadata": {},
   "outputs": [
    {
     "data": {
      "text/plain": [
       "tensor([[1., 2., 1., 1., 1., 1.],\n",
       "        [2., 2., 2., 2., 2., 2.],\n",
       "        [1., 2., 1., 1., 1., 1.],\n",
       "        [1., 2., 1., 3., 3., 1.],\n",
       "        [1., 2., 1., 3., 3., 1.],\n",
       "        [1., 2., 1., 1., 1., 1.]])"
      ]
     },
     "execution_count": 13,
     "metadata": {},
     "output_type": "execute_result"
    }
   ],
   "source": [
    "a = torch.full((6,6), 1)\n",
    "a[1,:] = 2\n",
    "a[:,1] = 2\n",
    "a[3:5, 3:5] = 3\n",
    "a"
   ]
  },
  {
   "cell_type": "code",
   "execution_count": 16,
   "metadata": {},
   "outputs": [
    {
     "ename": "ValueError",
     "evalue": "negative step not yet supported",
     "output_type": "error",
     "traceback": [
      "\u001b[0;31m---------------------------------------------------------------------------\u001b[0m",
      "\u001b[0;31mValueError\u001b[0m                                Traceback (most recent call last)",
      "\u001b[0;32m<ipython-input-16-8a19e7a3edea>\u001b[0m in \u001b[0;36m<module>\u001b[0;34m\u001b[0m\n\u001b[0;32m----> 1\u001b[0;31m \u001b[0ma_inv_row\u001b[0m \u001b[0;34m=\u001b[0m \u001b[0ma\u001b[0m\u001b[0;34m[\u001b[0m\u001b[0;34m:\u001b[0m\u001b[0;34m,\u001b[0m \u001b[0;34m:\u001b[0m\u001b[0;34m:\u001b[0m\u001b[0;34m-\u001b[0m\u001b[0;36m1\u001b[0m\u001b[0;34m]\u001b[0m\u001b[0;34m\u001b[0m\u001b[0;34m\u001b[0m\u001b[0m\n\u001b[0m",
      "\u001b[0;31mValueError\u001b[0m: negative step not yet supported"
     ]
    }
   ],
   "source": [
    "a_inv_row = a[:, ::-1]"
   ]
  },
  {
   "cell_type": "code",
   "execution_count": 11,
   "metadata": {},
   "outputs": [],
   "source": [
    "b = torch.empty(13,13)\n",
    "b[0:6, 0:6] = a\n",
    "b[7:, 0:6] = "
   ]
  },
  {
   "cell_type": "code",
   "execution_count": 12,
   "metadata": {},
   "outputs": [
    {
     "data": {
      "text/plain": [
       "tensor([[ 1.0000e+00,  2.0000e+00,  1.0000e+00,  1.0000e+00,  1.0000e+00,\n",
       "          1.0000e+00,  7.2016e+22,  4.7428e+30,  0.0000e+00,  0.0000e+00,\n",
       "          6.6982e-43,  3.1529e-43,  0.0000e+00],\n",
       "        [ 2.0000e+00,  2.0000e+00,  2.0000e+00,  2.0000e+00,  2.0000e+00,\n",
       "          2.0000e+00,  0.0000e+00,  1.6149e-07,  1.3567e-19,  2.6700e-06,\n",
       "          1.3028e-11,  8.2913e-33,  1.3563e-19],\n",
       "        [ 1.0000e+00,  2.0000e+00,  1.0000e+00,  1.0000e+00,  1.0000e+00,\n",
       "          1.0000e+00,  2.3878e-06,  1.3028e-11,  1.4588e-19,  4.1531e-05,\n",
       "          5.4666e+22,  2.5182e-12,  4.1638e-11],\n",
       "        [ 1.0000e+00,  2.0000e+00,  1.0000e+00,  3.0000e+00,  3.0000e+00,\n",
       "          1.0000e+00,  1.3563e-19,  1.3563e-19,  4.1411e-11,  2.6077e-09,\n",
       "          1.0371e-08,  2.3301e-09,  2.7447e-06],\n",
       "        [ 1.0000e+00,  2.0000e+00,  1.0000e+00,  3.0000e+00,  3.0000e+00,\n",
       "          1.0000e+00,  9.1672e-33,  1.7325e-01,  1.1258e+24,  1.7136e-10,\n",
       "          9.1575e-33,  7.1555e+22,  1.0937e-02],\n",
       "        [ 1.0000e+00,  2.0000e+00,  1.0000e+00,  1.0000e+00,  1.0000e+00,\n",
       "          1.0000e+00,  2.8079e+03,  1.8579e-10,  1.7754e+28,  0.0000e+00,\n",
       "          0.0000e+00,  0.0000e+00,  0.0000e+00],\n",
       "        [ 0.0000e+00,  0.0000e+00,  0.0000e+00,  0.0000e+00,  0.0000e+00,\n",
       "          0.0000e+00,  0.0000e+00,  0.0000e+00,  3.4536e+25,  4.5908e-41,\n",
       "          1.0000e+23,  4.5908e-41,  3.4884e+25],\n",
       "        [ 4.5908e-41,  1.0000e+23,  4.5908e-41, -6.9505e+29,  4.5907e-41,\n",
       "         -5.6158e+29,  4.5907e-41,  9.4074e-40,  4.7428e+30,  3.0754e-41,\n",
       "          4.9556e+28,  8.9070e-15,  1.8888e+31],\n",
       "        [ 1.4607e-19,  1.8469e+25,  1.0901e+27,  5.0778e+31,  4.9640e+28,\n",
       "          3.0481e+32,  7.2054e+22,  2.8026e-45,  2.8026e-45,  1.4013e-45,\n",
       "          1.4013e-45,  1.4601e-19,  5.6484e-23],\n",
       "        [ 3.0754e-41,  4.0498e-43,  0.0000e+00, -5.6559e-23,  3.0754e-41,\n",
       "         -5.6674e-23,  3.0754e-41,  0.0000e+00,  0.0000e+00,  0.0000e+00,\n",
       "          0.0000e+00,  0.0000e+00,  0.0000e+00],\n",
       "        [ 0.0000e+00,  0.0000e+00, -5.6676e-23,  3.0754e-41,  0.0000e+00,\n",
       "          0.0000e+00, -5.6696e-23,  3.0754e-41, -5.6696e-23,  3.0754e-41,\n",
       "         -5.6696e-23,  3.0754e-41,  0.0000e+00],\n",
       "        [ 0.0000e+00,  5.6487e-23,  3.0754e-41,  4.6240e+30,  1.1835e+22,\n",
       "          1.9097e-19,  7.0976e+22,  1.9519e-19,  3.0981e+32, -5.6696e-23,\n",
       "          3.0754e-41, -5.6696e-23,  3.0754e-41],\n",
       "        [-5.6696e-23,  3.0754e-41,  1.4013e-45,  0.0000e+00,  6.4600e+19,\n",
       "          7.0374e+22,  1.4601e-19,  1.8179e+31,  7.5737e+23,  2.6106e+20,\n",
       "          6.7331e+22,  1.1866e+27,  0.0000e+00]])"
      ]
     },
     "execution_count": 12,
     "metadata": {},
     "output_type": "execute_result"
    }
   ],
   "source": [
    "b"
   ]
  },
  {
   "cell_type": "markdown",
   "metadata": {},
   "source": [
    "# Exercise 2"
   ]
  },
  {
   "cell_type": "code",
   "execution_count": 25,
   "metadata": {},
   "outputs": [
    {
     "data": {
      "text/plain": [
       "torch.return_types.eig(\n",
       "eigenvalues=tensor([[6.0797e-05, 0.0000e+00],\n",
       "        [9.9999e-01, 0.0000e+00],\n",
       "        [2.0001e+00, 0.0000e+00],\n",
       "        [1.9000e+01, 0.0000e+00],\n",
       "        [3.0000e+00, 0.0000e+00],\n",
       "        [1.8000e+01, 0.0000e+00],\n",
       "        [4.0000e+00, 0.0000e+00],\n",
       "        [1.7000e+01, 0.0000e+00],\n",
       "        [5.0000e+00, 0.0000e+00],\n",
       "        [6.0001e+00, 0.0000e+00],\n",
       "        [7.0000e+00, 0.0000e+00],\n",
       "        [1.6000e+01, 0.0000e+00],\n",
       "        [8.0000e+00, 0.0000e+00],\n",
       "        [9.0001e+00, 0.0000e+00],\n",
       "        [1.5000e+01, 0.0000e+00],\n",
       "        [9.9999e+00, 0.0000e+00],\n",
       "        [1.4000e+01, 0.0000e+00],\n",
       "        [1.1000e+01, 0.0000e+00],\n",
       "        [1.2000e+01, 0.0000e+00],\n",
       "        [1.3000e+01, 0.0000e+00]]),\n",
       "eigenvectors=tensor([]))"
      ]
     },
     "execution_count": 25,
     "metadata": {},
     "output_type": "execute_result"
    }
   ],
   "source": [
    "gauss = torch.empty(20,20).normal_(2, 1)\n",
    "diag = torch.diag(torch.FloatTensor(range(20)))\n",
    "d = torch.inverse(gauss) @ diag @ gauss\n",
    "torch.eig(d)"
   ]
  },
  {
   "cell_type": "markdown",
   "metadata": {},
   "source": [
    "# Exercise 3"
   ]
  },
  {
   "cell_type": "code",
   "execution_count": 30,
   "metadata": {},
   "outputs": [
    {
     "name": "stdout",
     "output_type": "stream",
     "text": [
      "2.8436619279996194\n"
     ]
    }
   ],
   "source": [
    "g_1 = torch.empty(5000,5000).normal_(2,1)\n",
    "g_2 = torch.empty(5000,5000).normal_(2,1)\n",
    "t1 = perf_counter()\n",
    "g_1 @ g_2\n",
    "t2 = perf_counter()\n",
    "print(t2 - t1)"
   ]
  },
  {
   "cell_type": "code",
   "execution_count": 32,
   "metadata": {},
   "outputs": [
    {
     "data": {
      "text/plain": [
       "43957405333.31666"
      ]
     },
     "execution_count": 32,
     "metadata": {},
     "output_type": "execute_result"
    }
   ],
   "source": [
    "5000**3 / (t2 - t1)"
   ]
  },
  {
   "cell_type": "markdown",
   "metadata": {},
   "source": [
    "# Exercise 4"
   ]
  },
  {
   "cell_type": "code",
   "execution_count": 34,
   "metadata": {},
   "outputs": [
    {
     "data": {
      "text/plain": [
       "6"
      ]
     },
     "execution_count": 34,
     "metadata": {},
     "output_type": "execute_result"
    }
   ],
   "source": [
    "a.size()[0]"
   ]
  },
  {
   "cell_type": "code",
   "execution_count": 38,
   "metadata": {},
   "outputs": [],
   "source": [
    "def mul_row(t):\n",
    "    for r in range(t.size()[0]):\n",
    "        t[r,:] = t[r,:] * (2**r)\n",
    "    return t"
   ]
  },
  {
   "cell_type": "code",
   "execution_count": 39,
   "metadata": {},
   "outputs": [
    {
     "data": {
      "text/plain": [
       "tensor([[ 1.,  2.,  1.,  1.,  1.,  1.],\n",
       "        [ 4.,  4.,  4.,  4.,  4.,  4.],\n",
       "        [ 4.,  8.,  4.,  4.,  4.,  4.],\n",
       "        [ 8., 16.,  8., 24., 24.,  8.],\n",
       "        [16., 32., 16., 48., 48., 16.],\n",
       "        [32., 64., 32., 32., 32., 32.]])"
      ]
     },
     "execution_count": 39,
     "metadata": {},
     "output_type": "execute_result"
    }
   ],
   "source": [
    "mul_row(a)"
   ]
  },
  {
   "cell_type": "code",
   "execution_count": 47,
   "metadata": {},
   "outputs": [],
   "source": [
    "def mul_row_fast(t):\n",
    "    nb_rows = t.size()[0]\n",
    "    exponents = np.arange(nb_rows)\n",
    "    twos = np.array([2]*nb_rows)\n",
    "    powers_of_two = torch.from_numpy(twos ** exponents).float()\n",
    "    powers_of_two = powers_of_two.view(nb_rows, 1)\n",
    "    print(powers_of_two)\n",
    "    return t * powers_of_two"
   ]
  },
  {
   "cell_type": "code",
   "execution_count": 48,
   "metadata": {},
   "outputs": [
    {
     "name": "stdout",
     "output_type": "stream",
     "text": [
      "tensor([[ 1.],\n",
      "        [ 2.],\n",
      "        [ 4.],\n",
      "        [ 8.],\n",
      "        [16.]])\n"
     ]
    },
    {
     "data": {
      "text/plain": [
       "tensor([[ 1.,  1.,  1.,  1.,  1.],\n",
       "        [ 2.,  2.,  2.,  2.,  2.],\n",
       "        [ 4.,  4.,  4.,  4.,  4.],\n",
       "        [ 8.,  8.,  8.,  8.,  8.],\n",
       "        [16., 16., 16., 16., 16.]])"
      ]
     },
     "execution_count": 48,
     "metadata": {},
     "output_type": "execute_result"
    }
   ],
   "source": [
    "test = torch.full((5,5), 1)\n",
    "mul_row_fast(test)"
   ]
  },
  {
   "cell_type": "code",
   "execution_count": 49,
   "metadata": {},
   "outputs": [
    {
     "ename": "RuntimeError",
     "evalue": "Overflow when unpacking long",
     "output_type": "error",
     "traceback": [
      "\u001b[0;31m---------------------------------------------------------------------------\u001b[0m",
      "\u001b[0;31mRuntimeError\u001b[0m                              Traceback (most recent call last)",
      "\u001b[0;32m<ipython-input-49-5485076d8349>\u001b[0m in \u001b[0;36m<module>\u001b[0;34m\u001b[0m\n\u001b[1;32m      1\u001b[0m \u001b[0mt3\u001b[0m \u001b[0;34m=\u001b[0m \u001b[0mperf_counter\u001b[0m\u001b[0;34m(\u001b[0m\u001b[0;34m)\u001b[0m\u001b[0;34m\u001b[0m\u001b[0;34m\u001b[0m\u001b[0m\n\u001b[0;32m----> 2\u001b[0;31m \u001b[0mmul_row\u001b[0m\u001b[0;34m(\u001b[0m\u001b[0mg_1\u001b[0m\u001b[0;34m)\u001b[0m\u001b[0;34m\u001b[0m\u001b[0;34m\u001b[0m\u001b[0m\n\u001b[0m\u001b[1;32m      3\u001b[0m \u001b[0mt4\u001b[0m \u001b[0;34m=\u001b[0m \u001b[0mperf_counter\u001b[0m\u001b[0;34m(\u001b[0m\u001b[0;34m)\u001b[0m\u001b[0;34m\u001b[0m\u001b[0;34m\u001b[0m\u001b[0m\n\u001b[1;32m      4\u001b[0m \u001b[0mprint\u001b[0m\u001b[0;34m(\u001b[0m\u001b[0mt4\u001b[0m \u001b[0;34m-\u001b[0m \u001b[0mt3\u001b[0m\u001b[0;34m)\u001b[0m\u001b[0;34m\u001b[0m\u001b[0;34m\u001b[0m\u001b[0m\n",
      "\u001b[0;32m<ipython-input-38-de4ae4f440ad>\u001b[0m in \u001b[0;36mmul_row\u001b[0;34m(t)\u001b[0m\n\u001b[1;32m      1\u001b[0m \u001b[0;32mdef\u001b[0m \u001b[0mmul_row\u001b[0m\u001b[0;34m(\u001b[0m\u001b[0mt\u001b[0m\u001b[0;34m)\u001b[0m\u001b[0;34m:\u001b[0m\u001b[0;34m\u001b[0m\u001b[0;34m\u001b[0m\u001b[0m\n\u001b[1;32m      2\u001b[0m     \u001b[0;32mfor\u001b[0m \u001b[0mr\u001b[0m \u001b[0;32min\u001b[0m \u001b[0mrange\u001b[0m\u001b[0;34m(\u001b[0m\u001b[0mt\u001b[0m\u001b[0;34m.\u001b[0m\u001b[0msize\u001b[0m\u001b[0;34m(\u001b[0m\u001b[0;34m)\u001b[0m\u001b[0;34m[\u001b[0m\u001b[0;36m0\u001b[0m\u001b[0;34m]\u001b[0m\u001b[0;34m)\u001b[0m\u001b[0;34m:\u001b[0m\u001b[0;34m\u001b[0m\u001b[0;34m\u001b[0m\u001b[0m\n\u001b[0;32m----> 3\u001b[0;31m         \u001b[0mt\u001b[0m\u001b[0;34m[\u001b[0m\u001b[0mr\u001b[0m\u001b[0;34m,\u001b[0m\u001b[0;34m:\u001b[0m\u001b[0;34m]\u001b[0m \u001b[0;34m=\u001b[0m \u001b[0mt\u001b[0m\u001b[0;34m[\u001b[0m\u001b[0mr\u001b[0m\u001b[0;34m,\u001b[0m\u001b[0;34m:\u001b[0m\u001b[0;34m]\u001b[0m \u001b[0;34m*\u001b[0m \u001b[0;34m(\u001b[0m\u001b[0;36m2\u001b[0m\u001b[0;34m**\u001b[0m\u001b[0mr\u001b[0m\u001b[0;34m)\u001b[0m\u001b[0;34m\u001b[0m\u001b[0;34m\u001b[0m\u001b[0m\n\u001b[0m\u001b[1;32m      4\u001b[0m     \u001b[0;32mreturn\u001b[0m \u001b[0mt\u001b[0m\u001b[0;34m\u001b[0m\u001b[0;34m\u001b[0m\u001b[0m\n",
      "\u001b[0;31mRuntimeError\u001b[0m: Overflow when unpacking long"
     ]
    }
   ],
   "source": [
    "t3 = perf_counter()\n",
    "mul_row(g_1)\n",
    "t4 = perf_counter()\n",
    "print(t4 - t3)"
   ]
  },
  {
   "cell_type": "code",
   "execution_count": null,
   "metadata": {},
   "outputs": [],
   "source": []
  }
 ],
 "metadata": {
  "kernelspec": {
   "display_name": "Python 3",
   "language": "python",
   "name": "python3"
  },
  "language_info": {
   "codemirror_mode": {
    "name": "ipython",
    "version": 3
   },
   "file_extension": ".py",
   "mimetype": "text/x-python",
   "name": "python",
   "nbconvert_exporter": "python",
   "pygments_lexer": "ipython3",
   "version": "3.8.1"
  }
 },
 "nbformat": 4,
 "nbformat_minor": 4
}
