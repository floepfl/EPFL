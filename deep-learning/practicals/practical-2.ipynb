{
 "cells": [
  {
   "cell_type": "code",
   "execution_count": 1,
   "metadata": {},
   "outputs": [],
   "source": [
    "import torch\n",
    "import dlc_practical_prologue as prologue"
   ]
  },
  {
   "cell_type": "code",
   "execution_count": 2,
   "metadata": {},
   "outputs": [
    {
     "name": "stdout",
     "output_type": "stream",
     "text": [
      "* Using MNIST\n",
      "** Reduce the data-set (use --full for the full thing)\n",
      "** Use 1000 train and 1000 test samples\n"
     ]
    }
   ],
   "source": [
    "mnist = prologue.load_data()"
   ]
  },
  {
   "cell_type": "code",
   "execution_count": 3,
   "metadata": {},
   "outputs": [],
   "source": [
    "train_data_mnist = mnist[0]\n",
    "train_label_mnist = mnist[1]\n",
    "test_data_mnist = mnist[2]\n",
    "test_label_mnist = mnist[3]"
   ]
  },
  {
   "cell_type": "code",
   "execution_count": 4,
   "metadata": {},
   "outputs": [],
   "source": [
    "def nearest_classification(train_input, train_label, x):\n",
    "    l2_norms = torch.sum((train_input - x) ** 2, axis=1).view(-1)\n",
    "    lowest_norm = torch.argmin(l2_norms)\n",
    "    return train_label[lowest_norm].item()"
   ]
  },
  {
   "cell_type": "code",
   "execution_count": 5,
   "metadata": {},
   "outputs": [
    {
     "data": {
      "text/plain": [
       "1"
      ]
     },
     "execution_count": 5,
     "metadata": {},
     "output_type": "execute_result"
    }
   ],
   "source": [
    "nearest_classification(train_data_mnist, train_label_mnist, test_data_mnist[2])"
   ]
  },
  {
   "cell_type": "code",
   "execution_count": 11,
   "metadata": {},
   "outputs": [],
   "source": [
    "def compute_nb_errors(train_input, train_target, test_input, test_target, mean=None, proj=None):\n",
    "    train_input = train_input.clone()\n",
    "    test_input = test_input.clone()\n",
    "    if mean is not None:\n",
    "        train_input = train_input - mean\n",
    "        test_input = test_input - mean\n",
    "    \n",
    "    if proj is not None:\n",
    "        train_input = train_input @ proj\n",
    "        test_input = test_input @ proj\n",
    "    \n",
    "    test_labels = []\n",
    "    for i in range(test_input.shape[0]):\n",
    "        test_labels.append(nearest_classification(train_input, train_target, test_input[i]))\n",
    "    \n",
    "    return torch.sum(test_target != torch.tensor(test_labels)).item()"
   ]
  },
  {
   "cell_type": "code",
   "execution_count": 12,
   "metadata": {},
   "outputs": [
    {
     "data": {
      "text/plain": [
       "172"
      ]
     },
     "execution_count": 12,
     "metadata": {},
     "output_type": "execute_result"
    }
   ],
   "source": [
    "compute_nb_errors(train_data_mnist, train_label_mnist, test_data_mnist, test_label_mnist)"
   ]
  },
  {
   "cell_type": "code",
   "execution_count": 15,
   "metadata": {},
   "outputs": [],
   "source": [
    "def PCA(x):\n",
    "    mean = torch.mean(x, axis=0)\n",
    "    x = x - mean\n",
    "    eig_values, eig_vectors = torch.eig(x.t() @ x, eigenvectors=True)\n",
    "    _, indices = torch.sort(eig_values, axis=0, descending=True)\n",
    "    return mean, eig_vectors[indices[:,0]]"
   ]
  },
  {
   "cell_type": "code",
   "execution_count": 16,
   "metadata": {},
   "outputs": [],
   "source": [
    "mean_mnist, eig_vec_mnist = PCA(train_data_mnist)"
   ]
  },
  {
   "cell_type": "code",
   "execution_count": 21,
   "metadata": {},
   "outputs": [
    {
     "data": {
      "text/plain": [
       "torch.Size([784, 2])"
      ]
     },
     "execution_count": 21,
     "metadata": {},
     "output_type": "execute_result"
    }
   ],
   "source": [
    "pca_basis_mnist = eig_vec_mnist[:,:2]\n",
    "pca_basis_mnist.shape"
   ]
  },
  {
   "cell_type": "code",
   "execution_count": 23,
   "metadata": {},
   "outputs": [
    {
     "data": {
      "text/plain": [
       "643"
      ]
     },
     "execution_count": 23,
     "metadata": {},
     "output_type": "execute_result"
    }
   ],
   "source": [
    "compute_nb_errors(train_data_mnist, train_label_mnist, test_data_mnist, test_label_mnist, mean=mean_mnist,\\\n",
    "                  proj=pca_basis_mnist @ pca_basis_mnist.t())"
   ]
  },
  {
   "cell_type": "code",
   "execution_count": 24,
   "metadata": {},
   "outputs": [],
   "source": [
    "def tries(train_input, train_target, test_input, test_target, mean=None, proj=None, projections=None):\n",
    "    for p in projections:\n",
    "        pca_basis_mnist = eig_vec_mnist[:,:p]\n",
    "        print(compute_nb_errors(train_data_mnist, train_label_mnist, test_data_mnist, test_label_mnist, mean=mean_mnist,\\\n",
    "                          proj=pca_basis_mnist @ pca_basis_mnist.t()))"
   ]
  },
  {
   "cell_type": "code",
   "execution_count": 26,
   "metadata": {},
   "outputs": [
    {
     "name": "stdout",
     "output_type": "stream",
     "text": [
      "643\n",
      "187\n",
      "177\n",
      "168\n",
      "156\n",
      "170\n"
     ]
    }
   ],
   "source": [
    "tries(train_data_mnist, train_label_mnist, test_data_mnist, test_label_mnist, mean=mean_mnist,\\\n",
    "                  proj=pca_basis_mnist @ pca_basis_mnist.t(), projections=[2,30,50,100,500,1000])"
   ]
  },
  {
   "cell_type": "code",
   "execution_count": null,
   "metadata": {},
   "outputs": [],
   "source": []
  }
 ],
 "metadata": {
  "kernelspec": {
   "display_name": "Python 3",
   "language": "python",
   "name": "python3"
  },
  "language_info": {
   "codemirror_mode": {
    "name": "ipython",
    "version": 3
   },
   "file_extension": ".py",
   "mimetype": "text/x-python",
   "name": "python",
   "nbconvert_exporter": "python",
   "pygments_lexer": "ipython3",
   "version": "3.8.1"
  }
 },
 "nbformat": 4,
 "nbformat_minor": 4
}
